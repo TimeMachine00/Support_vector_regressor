{
 "cells": [
  {
   "cell_type": "markdown",
   "id": "e113a377",
   "metadata": {},
   "source": [
    "# created by hussainatphysics@gmail.com(hussainsha syed)\n",
    "here we perfom Support vector regression(SVR) and we also do random forest, decission tree, Linear and polynomial regression to conclude which is better for the taken dataset"
   ]
  },
  {
   "cell_type": "markdown",
   "id": "e01eebbb",
   "metadata": {},
   "source": [
    "# importing libraries"
   ]
  },
  {
   "cell_type": "code",
   "execution_count": 1,
   "id": "edc0bb49",
   "metadata": {},
   "outputs": [],
   "source": [
    "import pandas as pd\n",
    "import numpy as np\n",
    "import matplotlib.pyplot as plt"
   ]
  },
  {
   "cell_type": "markdown",
   "id": "152f11fb",
   "metadata": {},
   "source": [
    "# Loading dataset"
   ]
  },
  {
   "cell_type": "code",
   "execution_count": 2,
   "id": "a54a8c97",
   "metadata": {},
   "outputs": [],
   "source": [
    "loadData = pd.read_csv(\"C:\\\\Users\\HussainSha\\\\ML_forGithub\\\\Support_vector_regressor\\\\SVR.csv\")"
   ]
  },
  {
   "cell_type": "code",
   "execution_count": 3,
   "id": "b1257088",
   "metadata": {},
   "outputs": [],
   "source": [
    "x = loadData.drop('Marks', axis = 'columns')"
   ]
  },
  {
   "cell_type": "code",
   "execution_count": 4,
   "id": "d9830f4f",
   "metadata": {},
   "outputs": [],
   "source": [
    "y = loadData.drop('Hours of Study', axis = 'columns')"
   ]
  },
  {
   "cell_type": "markdown",
   "id": "da9fc6f9",
   "metadata": {},
   "source": [
    "# visualization "
   ]
  },
  {
   "cell_type": "code",
   "execution_count": 5,
   "id": "42f977b8",
   "metadata": {},
   "outputs": [
    {
     "data": {
      "image/png": "[encoded data removed]",
      "text/plain": [
       "<Figure size 432x288 with 1 Axes>"
      ]
     },
     "metadata": {
      "needs_background": "light"
     },
     "output_type": "display_data"
    }
   ],
   "source": [
    "plt.scatter(x,y)\n",
    "plt.xlabel('Hours')\n",
    "plt.ylabel('Marks')\n",
    "plt.show()"
   ]
  },
  {
   "cell_type": "markdown",
   "id": "a1273fe0",
   "metadata": {},
   "source": [
    "# splitting dataset into training and testing"
   ]
  },
  {
   "cell_type": "code",
   "execution_count": 6,
   "id": "cc8190d3",
   "metadata": {},
   "outputs": [],
   "source": [
    "from sklearn.model_selection import train_test_split "
   ]
  },
  {
   "cell_type": "code",
   "execution_count": 7,
   "id": "eb7aa4dd",
   "metadata": {},
   "outputs": [],
   "source": [
    "xtrain, xtest, ytrain, ytest = train_test_split(x, y, test_size=0.1, random_state=0)"
   ]
  },
  {
   "cell_type": "markdown",
   "id": "6ff7b70a",
   "metadata": {},
   "source": [
    "# SVR"
   ]
  },
  {
   "cell_type": "code",
   "execution_count": 8,
   "id": "bcc5d7eb",
   "metadata": {},
   "outputs": [],
   "source": [
    "from sklearn.svm import SVR"
   ]
  },
  {
   "cell_type": "code",
   "execution_count": 9,
   "id": "3666a9f4",
   "metadata": {},
   "outputs": [],
   "source": [
    "svr_reg = SVR(kernel='rbf')"
   ]
  },
  {
   "cell_type": "code",
   "execution_count": 10,
   "id": "0648b2e3",
   "metadata": {},
   "outputs": [
    {
     "name": "stderr",
     "output_type": "stream",
     "text": [
      "C:\\Users\\HussainSha\\anaconda3\\lib\\site-packages\\sklearn\\utils\\validation.py:63: DataConversionWarning: A column-vector y was passed when a 1d array was expected. Please change the shape of y to (n_samples, ), for example using ravel().\n",
      "  return f(*args, **kwargs)\n"
     ]
    },
    {
     "data": {
      "text/plain": [
       "SVR()"
      ]
     },
     "execution_count": 10,
     "metadata": {},
     "output_type": "execute_result"
    }
   ],
   "source": [
    "svr_reg.fit(xtrain, ytrain)"
   ]
  },
  {
   "cell_type": "code",
   "execution_count": 11,
   "id": "007a080b",
   "metadata": {},
   "outputs": [],
   "source": [
    "svr_pred = svr_reg.predict(xtest)"
   ]
  },
  {
   "cell_type": "code",
   "execution_count": 12,
   "id": "64bfa8b7",
   "metadata": {},
   "outputs": [
    {
     "data": {
      "text/plain": [
       "array([80.50401113, 74.42220509, 82.01063435, 78.84054228, 65.51402369,\n",
       "       67.72718641, 65.74727546, 63.98431269, 74.42209431, 73.00910626])"
      ]
     },
     "execution_count": 12,
     "metadata": {},
     "output_type": "execute_result"
    }
   ],
   "source": [
    "svr_pred"
   ]
  },
  {
   "cell_type": "code",
   "execution_count": 13,
   "id": "ba787092",
   "metadata": {},
   "outputs": [
    {
     "data": {
      "text/html": [
       "<div>\n",
       "<style scoped>\n",
       "    .dataframe tbody tr th:only-of-type {\n",
       "        vertical-align: middle;\n",
       "    }\n",
       "\n",
       "    .dataframe tbody tr th {\n",
       "        vertical-align: top;\n",
       "    }\n",
       "\n",
       "    .dataframe thead th {\n",
       "        text-align: right;\n",
       "    }\n",
       "</style>\n",
       "<table border=\"1\" class=\"dataframe\">\n",
       "  <thead>\n",
       "    <tr style=\"text-align: right;\">\n",
       "      <th></th>\n",
       "      <th>Marks</th>\n",
       "    </tr>\n",
       "  </thead>\n",
       "  <tbody>\n",
       "    <tr>\n",
       "      <th>26</th>\n",
       "      <td>95.455053</td>\n",
       "    </tr>\n",
       "    <tr>\n",
       "      <th>86</th>\n",
       "      <td>69.588898</td>\n",
       "    </tr>\n",
       "    <tr>\n",
       "      <th>2</th>\n",
       "      <td>62.562382</td>\n",
       "    </tr>\n",
       "    <tr>\n",
       "      <th>55</th>\n",
       "      <td>71.139728</td>\n",
       "    </tr>\n",
       "    <tr>\n",
       "      <th>75</th>\n",
       "      <td>86.642020</td>\n",
       "    </tr>\n",
       "    <tr>\n",
       "      <th>93</th>\n",
       "      <td>90.123572</td>\n",
       "    </tr>\n",
       "    <tr>\n",
       "      <th>16</th>\n",
       "      <td>82.892504</td>\n",
       "    </tr>\n",
       "    <tr>\n",
       "      <th>73</th>\n",
       "      <td>57.812513</td>\n",
       "    </tr>\n",
       "    <tr>\n",
       "      <th>54</th>\n",
       "      <td>73.434642</td>\n",
       "    </tr>\n",
       "    <tr>\n",
       "      <th>95</th>\n",
       "      <td>81.536991</td>\n",
       "    </tr>\n",
       "  </tbody>\n",
       "</table>\n",
       "</div>"
      ],
      "text/plain": [
       "        Marks\n",
       "26  95.455053\n",
       "86  69.588898\n",
       "2   62.562382\n",
       "55  71.139728\n",
       "75  86.642020\n",
       "93  90.123572\n",
       "16  82.892504\n",
       "73  57.812513\n",
       "54  73.434642\n",
       "95  81.536991"
      ]
     },
     "execution_count": 13,
     "metadata": {},
     "output_type": "execute_result"
    }
   ],
   "source": [
    "ytest"
   ]
  },
  {
   "cell_type": "code",
   "execution_count": 14,
   "id": "d4a192f1",
   "metadata": {},
   "outputs": [
    {
     "data": {
      "image/png": "[encoded data removed]",
      "text/plain": [
       "<Figure size 432x288 with 1 Axes>"
      ]
     },
     "metadata": {
      "needs_background": "light"
     },
     "output_type": "display_data"
    }
   ],
   "source": [
    "plt.scatter(xtest,svr_pred)\n",
    "plt.xlabel('Hours')\n",
    "plt.ylabel('Marks')\n",
    "plt.show()"
   ]
  },
  {
   "cell_type": "markdown",
   "id": "10c2255e",
   "metadata": {},
   "source": [
    "# RMSE and Score"
   ]
  },
  {
   "cell_type": "code",
   "execution_count": 15,
   "id": "d8e3e7da",
   "metadata": {},
   "outputs": [],
   "source": [
    "from sklearn.metrics import mean_squared_error"
   ]
  },
  {
   "cell_type": "code",
   "execution_count": 16,
   "id": "179ee6df",
   "metadata": {},
   "outputs": [
    {
     "name": "stdout",
     "output_type": "stream",
     "text": [
      "RMSE od SVR is:  14.276455210843194\n"
     ]
    }
   ],
   "source": [
    "print(\"RMSE od SVR is: \", np.sqrt(mean_squared_error(ytest, svr_pred)))"
   ]
  },
  {
   "cell_type": "code",
   "execution_count": 17,
   "id": "3e0675b0",
   "metadata": {},
   "outputs": [
    {
     "data": {
      "text/plain": [
       "-0.5215530168815705"
      ]
     },
     "execution_count": 17,
     "metadata": {},
     "output_type": "execute_result"
    }
   ],
   "source": [
    "svr_reg.score(xtest, ytest)"
   ]
  },
  {
   "cell_type": "markdown",
   "id": "f0651b5a",
   "metadata": {},
   "source": [
    "# Random forest"
   ]
  },
  {
   "cell_type": "code",
   "execution_count": 18,
   "id": "66e1bbb1",
   "metadata": {},
   "outputs": [],
   "source": [
    "from sklearn.ensemble import RandomForestRegressor"
   ]
  },
  {
   "cell_type": "code",
   "execution_count": 19,
   "id": "75c8dee2",
   "metadata": {},
   "outputs": [],
   "source": [
    "ran_reg = RandomForestRegressor(n_estimators=10, random_state=0)"
   ]
  },
  {
   "cell_type": "code",
   "execution_count": 20,
   "id": "7ac2bce7",
   "metadata": {},
   "outputs": [
    {
     "name": "stderr",
     "output_type": "stream",
     "text": [
      "<ipython-input-20-8c87fc5e895b>:1: DataConversionWarning: A column-vector y was passed when a 1d array was expected. Please change the shape of y to (n_samples,), for example using ravel().\n",
      "  ran_reg.fit(xtrain, ytrain)\n"
     ]
    },
    {
     "data": {
      "text/plain": [
       "RandomForestRegressor(n_estimators=10, random_state=0)"
      ]
     },
     "execution_count": 20,
     "metadata": {},
     "output_type": "execute_result"
    }
   ],
   "source": [
    "ran_reg.fit(xtrain, ytrain)"
   ]
  },
  {
   "cell_type": "code",
   "execution_count": 21,
   "id": "607fc28b",
   "metadata": {},
   "outputs": [],
   "source": [
    "ran_pred = ran_reg.predict(xtest)"
   ]
  },
  {
   "cell_type": "code",
   "execution_count": 22,
   "id": "e3a2134d",
   "metadata": {},
   "outputs": [
    {
     "data": {
      "text/plain": [
       "array([87.16301258, 77.7791803 , 84.31638211, 78.9060348 , 60.6991141 ,\n",
       "       71.21960919, 55.10571956, 59.48471159, 77.7791803 , 84.76680217])"
      ]
     },
     "execution_count": 22,
     "metadata": {},
     "output_type": "execute_result"
    }
   ],
   "source": [
    "ran_pred"
   ]
  },
  {
   "cell_type": "code",
   "execution_count": 23,
   "id": "426cfef9",
   "metadata": {},
   "outputs": [
    {
     "data": {
      "text/html": [
       "<div>\n",
       "<style scoped>\n",
       "    .dataframe tbody tr th:only-of-type {\n",
       "        vertical-align: middle;\n",
       "    }\n",
       "\n",
       "    .dataframe tbody tr th {\n",
       "        vertical-align: top;\n",
       "    }\n",
       "\n",
       "    .dataframe thead th {\n",
       "        text-align: right;\n",
       "    }\n",
       "</style>\n",
       "<table border=\"1\" class=\"dataframe\">\n",
       "  <thead>\n",
       "    <tr style=\"text-align: right;\">\n",
       "      <th></th>\n",
       "      <th>Hours of Study</th>\n",
       "    </tr>\n",
       "  </thead>\n",
       "  <tbody>\n",
       "    <tr>\n",
       "      <th>26</th>\n",
       "      <td>57.310003</td>\n",
       "    </tr>\n",
       "    <tr>\n",
       "      <th>86</th>\n",
       "      <td>51.088720</td>\n",
       "    </tr>\n",
       "    <tr>\n",
       "      <th>2</th>\n",
       "      <td>61.530358</td>\n",
       "    </tr>\n",
       "    <tr>\n",
       "      <th>55</th>\n",
       "      <td>55.078096</td>\n",
       "    </tr>\n",
       "    <tr>\n",
       "      <th>75</th>\n",
       "      <td>44.492856</td>\n",
       "    </tr>\n",
       "    <tr>\n",
       "      <th>93</th>\n",
       "      <td>46.230967</td>\n",
       "    </tr>\n",
       "    <tr>\n",
       "      <th>16</th>\n",
       "      <td>44.687196</td>\n",
       "    </tr>\n",
       "    <tr>\n",
       "      <th>73</th>\n",
       "      <td>43.107820</td>\n",
       "    </tr>\n",
       "    <tr>\n",
       "      <th>54</th>\n",
       "      <td>51.088635</td>\n",
       "    </tr>\n",
       "    <tr>\n",
       "      <th>95</th>\n",
       "      <td>50.030174</td>\n",
       "    </tr>\n",
       "  </tbody>\n",
       "</table>\n",
       "</div>"
      ],
      "text/plain": [
       "    Hours of Study\n",
       "26       57.310003\n",
       "86       51.088720\n",
       "2        61.530358\n",
       "55       55.078096\n",
       "75       44.492856\n",
       "93       46.230967\n",
       "16       44.687196\n",
       "73       43.107820\n",
       "54       51.088635\n",
       "95       50.030174"
      ]
     },
     "execution_count": 23,
     "metadata": {},
     "output_type": "execute_result"
    }
   ],
   "source": [
    "xtest"
   ]
  },
  {
   "cell_type": "code",
   "execution_count": 24,
   "id": "3da48395",
   "metadata": {},
   "outputs": [
    {
     "data": {
      "image/png": "[encoded data removed]",
      "text/plain": [
       "<Figure size 432x288 with 1 Axes>"
      ]
     },
     "metadata": {
      "needs_background": "light"
     },
     "output_type": "display_data"
    }
   ],
   "source": [
    "plt.scatter(xtest,ran_pred)\n",
    "plt.xlabel('Hours')\n",
    "plt.ylabel('Marks')\n",
    "plt.show()"
   ]
  },
  {
   "cell_type": "code",
   "execution_count": 25,
   "id": "4f4f781b",
   "metadata": {},
   "outputs": [
    {
     "name": "stdout",
     "output_type": "stream",
     "text": [
      "RMSE of random forest is 15.824010896248955\n"
     ]
    }
   ],
   "source": [
    "print(\"RMSE of random forest is\", np.sqrt(mean_squared_error(ytest, ran_pred)))"
   ]
  },
  {
   "cell_type": "code",
   "execution_count": 26,
   "id": "9dd325a1",
   "metadata": {},
   "outputs": [
    {
     "data": {
      "text/plain": [
       "-0.8693019617752733"
      ]
     },
     "execution_count": 26,
     "metadata": {},
     "output_type": "execute_result"
    }
   ],
   "source": [
    "ran_reg.score(xtest, ytest)"
   ]
  },
  {
   "cell_type": "markdown",
   "id": "12ec1d45",
   "metadata": {},
   "source": [
    "# Decisssion tree"
   ]
  },
  {
   "cell_type": "code",
   "execution_count": 27,
   "id": "9d60fcd4",
   "metadata": {},
   "outputs": [],
   "source": [
    "from sklearn.tree import DecisionTreeRegressor"
   ]
  },
  {
   "cell_type": "code",
   "execution_count": 28,
   "id": "90bd185f",
   "metadata": {},
   "outputs": [],
   "source": [
    "dec_reg = DecisionTreeRegressor()"
   ]
  },
  {
   "cell_type": "code",
   "execution_count": 29,
   "id": "a85cb067",
   "metadata": {},
   "outputs": [
    {
     "data": {
      "text/plain": [
       "DecisionTreeRegressor()"
      ]
     },
     "execution_count": 29,
     "metadata": {},
     "output_type": "execute_result"
    }
   ],
   "source": [
    "dec_reg.fit(xtrain, ytrain)"
   ]
  },
  {
   "cell_type": "code",
   "execution_count": 30,
   "id": "d0d9bab6",
   "metadata": {},
   "outputs": [],
   "source": [
    "dec_pred = dec_reg.predict(xtest)"
   ]
  },
  {
   "cell_type": "code",
   "execution_count": 31,
   "id": "24a401c4",
   "metadata": {},
   "outputs": [
    {
     "data": {
      "text/plain": [
       "array([95.53668685, 83.43207142, 77.76848242, 78.21151827, 65.10171157,\n",
       "       72.24725107, 52.68298337, 58.56982472, 83.43207142, 85.23200734])"
      ]
     },
     "execution_count": 31,
     "metadata": {},
     "output_type": "execute_result"
    }
   ],
   "source": [
    "dec_pred"
   ]
  },
  {
   "cell_type": "code",
   "execution_count": 32,
   "id": "4cb5f962",
   "metadata": {},
   "outputs": [
    {
     "data": {
      "text/html": [
       "<div>\n",
       "<style scoped>\n",
       "    .dataframe tbody tr th:only-of-type {\n",
       "        vertical-align: middle;\n",
       "    }\n",
       "\n",
       "    .dataframe tbody tr th {\n",
       "        vertical-align: top;\n",
       "    }\n",
       "\n",
       "    .dataframe thead th {\n",
       "        text-align: right;\n",
       "    }\n",
       "</style>\n",
       "<table border=\"1\" class=\"dataframe\">\n",
       "  <thead>\n",
       "    <tr style=\"text-align: right;\">\n",
       "      <th></th>\n",
       "      <th>Hours of Study</th>\n",
       "    </tr>\n",
       "  </thead>\n",
       "  <tbody>\n",
       "    <tr>\n",
       "      <th>26</th>\n",
       "      <td>57.310003</td>\n",
       "    </tr>\n",
       "    <tr>\n",
       "      <th>86</th>\n",
       "      <td>51.088720</td>\n",
       "    </tr>\n",
       "    <tr>\n",
       "      <th>2</th>\n",
       "      <td>61.530358</td>\n",
       "    </tr>\n",
       "    <tr>\n",
       "      <th>55</th>\n",
       "      <td>55.078096</td>\n",
       "    </tr>\n",
       "    <tr>\n",
       "      <th>75</th>\n",
       "      <td>44.492856</td>\n",
       "    </tr>\n",
       "    <tr>\n",
       "      <th>93</th>\n",
       "      <td>46.230967</td>\n",
       "    </tr>\n",
       "    <tr>\n",
       "      <th>16</th>\n",
       "      <td>44.687196</td>\n",
       "    </tr>\n",
       "    <tr>\n",
       "      <th>73</th>\n",
       "      <td>43.107820</td>\n",
       "    </tr>\n",
       "    <tr>\n",
       "      <th>54</th>\n",
       "      <td>51.088635</td>\n",
       "    </tr>\n",
       "    <tr>\n",
       "      <th>95</th>\n",
       "      <td>50.030174</td>\n",
       "    </tr>\n",
       "  </tbody>\n",
       "</table>\n",
       "</div>"
      ],
      "text/plain": [
       "    Hours of Study\n",
       "26       57.310003\n",
       "86       51.088720\n",
       "2        61.530358\n",
       "55       55.078096\n",
       "75       44.492856\n",
       "93       46.230967\n",
       "16       44.687196\n",
       "73       43.107820\n",
       "54       51.088635\n",
       "95       50.030174"
      ]
     },
     "execution_count": 32,
     "metadata": {},
     "output_type": "execute_result"
    }
   ],
   "source": [
    "xtest"
   ]
  },
  {
   "cell_type": "code",
   "execution_count": 33,
   "id": "7510e36f",
   "metadata": {},
   "outputs": [
    {
     "data": {
      "image/png": "[encoded data removed]",
      "text/plain": [
       "<Figure size 432x288 with 1 Axes>"
      ]
     },
     "metadata": {
      "needs_background": "light"
     },
     "output_type": "display_data"
    }
   ],
   "source": [
    "plt.scatter(xtest,dec_pred)\n",
    "plt.xlabel('Hours')\n",
    "plt.ylabel('Marks')\n",
    "plt.show()"
   ]
  },
  {
   "cell_type": "code",
   "execution_count": 34,
   "id": "a0b86967",
   "metadata": {},
   "outputs": [
    {
     "name": "stdout",
     "output_type": "stream",
     "text": [
      "RMSE of Decission tree is 15.110307625682248\n"
     ]
    }
   ],
   "source": [
    "print(\"RMSE of Decission tree is\", np.sqrt(mean_squared_error(ytest, dec_pred)))"
   ]
  },
  {
   "cell_type": "code",
   "execution_count": 35,
   "id": "73879182",
   "metadata": {},
   "outputs": [
    {
     "data": {
      "text/plain": [
       "-0.7044839939382341"
      ]
     },
     "execution_count": 35,
     "metadata": {},
     "output_type": "execute_result"
    }
   ],
   "source": [
    "dec_reg.score(xtest, ytest)"
   ]
  },
  {
   "cell_type": "markdown",
   "id": "aa527278",
   "metadata": {},
   "source": [
    "#   Polynomial regression"
   ]
  },
  {
   "cell_type": "code",
   "execution_count": 36,
   "id": "adc7be49",
   "metadata": {},
   "outputs": [],
   "source": [
    "from sklearn.preprocessing import PolynomialFeatures\n",
    "from sklearn.linear_model import LinearRegression"
   ]
  },
  {
   "cell_type": "code",
   "execution_count": 38,
   "id": "3df82094",
   "metadata": {},
   "outputs": [],
   "source": [
    "x_pol = PolynomialFeatures(degree=4)"
   ]
  },
  {
   "cell_type": "code",
   "execution_count": 39,
   "id": "3fe313fc",
   "metadata": {},
   "outputs": [],
   "source": [
    "x_train = x_pol.fit_transform(xtrain)"
   ]
  },
  {
   "cell_type": "code",
   "execution_count": 40,
   "id": "0a987d11",
   "metadata": {},
   "outputs": [],
   "source": [
    "lin_reg = LinearRegression()"
   ]
  },
  {
   "cell_type": "code",
   "execution_count": 41,
   "id": "56c9f52d",
   "metadata": {},
   "outputs": [
    {
     "data": {
      "text/plain": [
       "LinearRegression()"
      ]
     },
     "execution_count": 41,
     "metadata": {},
     "output_type": "execute_result"
    }
   ],
   "source": [
    "lin_reg.fit(x_train, ytrain)"
   ]
  },
  {
   "cell_type": "code",
   "execution_count": 42,
   "id": "bf820663",
   "metadata": {},
   "outputs": [],
   "source": [
    "x_test =x_pol.fit_transform(xtest)"
   ]
  },
  {
   "cell_type": "code",
   "execution_count": 43,
   "id": "e27d4db7",
   "metadata": {},
   "outputs": [],
   "source": [
    "pol_pred = lin_reg.predict(x_test)"
   ]
  },
  {
   "cell_type": "code",
   "execution_count": 44,
   "id": "6af4957a",
   "metadata": {},
   "outputs": [
    {
     "data": {
      "text/plain": [
       "array([[83.05755782],\n",
       "       [74.38392067],\n",
       "       [88.21760403],\n",
       "       [80.04727222],\n",
       "       [64.98576837],\n",
       "       [67.39966018],\n",
       "       [65.25164226],\n",
       "       [63.12690444],\n",
       "       [74.38379756],\n",
       "       [72.85252883]])"
      ]
     },
     "execution_count": 44,
     "metadata": {},
     "output_type": "execute_result"
    }
   ],
   "source": [
    "pol_pred"
   ]
  },
  {
   "cell_type": "code",
   "execution_count": 45,
   "id": "fcbc80ca",
   "metadata": {},
   "outputs": [
    {
     "data": {
      "text/html": [
       "<div>\n",
       "<style scoped>\n",
       "    .dataframe tbody tr th:only-of-type {\n",
       "        vertical-align: middle;\n",
       "    }\n",
       "\n",
       "    .dataframe tbody tr th {\n",
       "        vertical-align: top;\n",
       "    }\n",
       "\n",
       "    .dataframe thead th {\n",
       "        text-align: right;\n",
       "    }\n",
       "</style>\n",
       "<table border=\"1\" class=\"dataframe\">\n",
       "  <thead>\n",
       "    <tr style=\"text-align: right;\">\n",
       "      <th></th>\n",
       "      <th>Marks</th>\n",
       "    </tr>\n",
       "  </thead>\n",
       "  <tbody>\n",
       "    <tr>\n",
       "      <th>26</th>\n",
       "      <td>95.455053</td>\n",
       "    </tr>\n",
       "    <tr>\n",
       "      <th>86</th>\n",
       "      <td>69.588898</td>\n",
       "    </tr>\n",
       "    <tr>\n",
       "      <th>2</th>\n",
       "      <td>62.562382</td>\n",
       "    </tr>\n",
       "    <tr>\n",
       "      <th>55</th>\n",
       "      <td>71.139728</td>\n",
       "    </tr>\n",
       "    <tr>\n",
       "      <th>75</th>\n",
       "      <td>86.642020</td>\n",
       "    </tr>\n",
       "    <tr>\n",
       "      <th>93</th>\n",
       "      <td>90.123572</td>\n",
       "    </tr>\n",
       "    <tr>\n",
       "      <th>16</th>\n",
       "      <td>82.892504</td>\n",
       "    </tr>\n",
       "    <tr>\n",
       "      <th>73</th>\n",
       "      <td>57.812513</td>\n",
       "    </tr>\n",
       "    <tr>\n",
       "      <th>54</th>\n",
       "      <td>73.434642</td>\n",
       "    </tr>\n",
       "    <tr>\n",
       "      <th>95</th>\n",
       "      <td>81.536991</td>\n",
       "    </tr>\n",
       "  </tbody>\n",
       "</table>\n",
       "</div>"
      ],
      "text/plain": [
       "        Marks\n",
       "26  95.455053\n",
       "86  69.588898\n",
       "2   62.562382\n",
       "55  71.139728\n",
       "75  86.642020\n",
       "93  90.123572\n",
       "16  82.892504\n",
       "73  57.812513\n",
       "54  73.434642\n",
       "95  81.536991"
      ]
     },
     "execution_count": 45,
     "metadata": {},
     "output_type": "execute_result"
    }
   ],
   "source": [
    "ytest"
   ]
  },
  {
   "cell_type": "code",
   "execution_count": 49,
   "id": "80763536",
   "metadata": {},
   "outputs": [
    {
     "data": {
      "text/plain": [
       "array([[1.00000000e+00, 5.73100034e+01, 3.28443649e+03, 1.88231067e+05,\n",
       "        1.07875231e+07],\n",
       "       [1.00000000e+00, 5.10887199e+01, 2.61005730e+03, 1.33344486e+05,\n",
       "        6.81239911e+06],\n",
       "       [1.00000000e+00, 6.15303580e+01, 3.78598496e+03, 2.32953010e+05,\n",
       "        1.43336821e+07],\n",
       "       [1.00000000e+00, 5.50780959e+01, 3.03359665e+03, 1.67084727e+05,\n",
       "        9.20270862e+06],\n",
       "       [1.00000000e+00, 4.44928559e+01, 1.97961422e+03, 8.80786904e+04,\n",
       "        3.91887248e+06],\n",
       "       [1.00000000e+00, 4.62309665e+01, 2.13730226e+03, 9.88095493e+04,\n",
       "        4.56806097e+06],\n",
       "       [1.00000000e+00, 4.46871962e+01, 1.99694551e+03, 8.92378957e+04,\n",
       "        3.98779136e+06],\n",
       "       [1.00000000e+00, 4.31078202e+01, 1.85828416e+03, 8.01065797e+04,\n",
       "        3.45322003e+06],\n",
       "       [1.00000000e+00, 5.10886347e+01, 2.61004859e+03, 1.33343819e+05,\n",
       "        6.81235366e+06],\n",
       "       [1.00000000e+00, 5.00301743e+01, 2.50301834e+03, 1.25226444e+05,\n",
       "        6.26510083e+06]])"
      ]
     },
     "execution_count": 49,
     "metadata": {},
     "output_type": "execute_result"
    }
   ],
   "source": [
    "x_test"
   ]
  },
  {
   "cell_type": "code",
   "execution_count": 50,
   "id": "6cfaea96",
   "metadata": {},
   "outputs": [],
   "source": [
    "df = pd.DataFrame(x_test)"
   ]
  },
  {
   "cell_type": "code",
   "execution_count": 51,
   "id": "c69a1fd2",
   "metadata": {},
   "outputs": [
    {
     "data": {
      "text/html": [
       "<div>\n",
       "<style scoped>\n",
       "    .dataframe tbody tr th:only-of-type {\n",
       "        vertical-align: middle;\n",
       "    }\n",
       "\n",
       "    .dataframe tbody tr th {\n",
       "        vertical-align: top;\n",
       "    }\n",
       "\n",
       "    .dataframe thead th {\n",
       "        text-align: right;\n",
       "    }\n",
       "</style>\n",
       "<table border=\"1\" class=\"dataframe\">\n",
       "  <thead>\n",
       "    <tr style=\"text-align: right;\">\n",
       "      <th></th>\n",
       "      <th>0</th>\n",
       "      <th>1</th>\n",
       "      <th>2</th>\n",
       "      <th>3</th>\n",
       "      <th>4</th>\n",
       "    </tr>\n",
       "  </thead>\n",
       "  <tbody>\n",
       "    <tr>\n",
       "      <th>0</th>\n",
       "      <td>1.0</td>\n",
       "      <td>57.310003</td>\n",
       "      <td>3284.436494</td>\n",
       "      <td>188231.066786</td>\n",
       "      <td>1.078752e+07</td>\n",
       "    </tr>\n",
       "    <tr>\n",
       "      <th>1</th>\n",
       "      <td>1.0</td>\n",
       "      <td>51.088720</td>\n",
       "      <td>2610.057301</td>\n",
       "      <td>133344.486375</td>\n",
       "      <td>6.812399e+06</td>\n",
       "    </tr>\n",
       "    <tr>\n",
       "      <th>2</th>\n",
       "      <td>1.0</td>\n",
       "      <td>61.530358</td>\n",
       "      <td>3785.984959</td>\n",
       "      <td>232953.010042</td>\n",
       "      <td>1.433368e+07</td>\n",
       "    </tr>\n",
       "    <tr>\n",
       "      <th>3</th>\n",
       "      <td>1.0</td>\n",
       "      <td>55.078096</td>\n",
       "      <td>3033.596648</td>\n",
       "      <td>167084.727099</td>\n",
       "      <td>9.202709e+06</td>\n",
       "    </tr>\n",
       "    <tr>\n",
       "      <th>4</th>\n",
       "      <td>1.0</td>\n",
       "      <td>44.492856</td>\n",
       "      <td>1979.614224</td>\n",
       "      <td>88078.690382</td>\n",
       "      <td>3.918872e+06</td>\n",
       "    </tr>\n",
       "    <tr>\n",
       "      <th>5</th>\n",
       "      <td>1.0</td>\n",
       "      <td>46.230967</td>\n",
       "      <td>2137.302264</td>\n",
       "      <td>98809.549345</td>\n",
       "      <td>4.568061e+06</td>\n",
       "    </tr>\n",
       "    <tr>\n",
       "      <th>6</th>\n",
       "      <td>1.0</td>\n",
       "      <td>44.687196</td>\n",
       "      <td>1996.945507</td>\n",
       "      <td>89237.895727</td>\n",
       "      <td>3.987791e+06</td>\n",
       "    </tr>\n",
       "    <tr>\n",
       "      <th>7</th>\n",
       "      <td>1.0</td>\n",
       "      <td>43.107820</td>\n",
       "      <td>1858.284164</td>\n",
       "      <td>80106.579665</td>\n",
       "      <td>3.453220e+06</td>\n",
       "    </tr>\n",
       "    <tr>\n",
       "      <th>8</th>\n",
       "      <td>1.0</td>\n",
       "      <td>51.088635</td>\n",
       "      <td>2610.048593</td>\n",
       "      <td>133343.819089</td>\n",
       "      <td>6.812354e+06</td>\n",
       "    </tr>\n",
       "    <tr>\n",
       "      <th>9</th>\n",
       "      <td>1.0</td>\n",
       "      <td>50.030174</td>\n",
       "      <td>2503.018344</td>\n",
       "      <td>125226.444151</td>\n",
       "      <td>6.265101e+06</td>\n",
       "    </tr>\n",
       "  </tbody>\n",
       "</table>\n",
       "</div>"
      ],
      "text/plain": [
       "     0          1            2              3             4\n",
       "0  1.0  57.310003  3284.436494  188231.066786  1.078752e+07\n",
       "1  1.0  51.088720  2610.057301  133344.486375  6.812399e+06\n",
       "2  1.0  61.530358  3785.984959  232953.010042  1.433368e+07\n",
       "3  1.0  55.078096  3033.596648  167084.727099  9.202709e+06\n",
       "4  1.0  44.492856  1979.614224   88078.690382  3.918872e+06\n",
       "5  1.0  46.230967  2137.302264   98809.549345  4.568061e+06\n",
       "6  1.0  44.687196  1996.945507   89237.895727  3.987791e+06\n",
       "7  1.0  43.107820  1858.284164   80106.579665  3.453220e+06\n",
       "8  1.0  51.088635  2610.048593  133343.819089  6.812354e+06\n",
       "9  1.0  50.030174  2503.018344  125226.444151  6.265101e+06"
      ]
     },
     "execution_count": 51,
     "metadata": {},
     "output_type": "execute_result"
    }
   ],
   "source": [
    "df"
   ]
  },
  {
   "cell_type": "code",
   "execution_count": 52,
   "id": "3c4b8e1c",
   "metadata": {},
   "outputs": [
    {
     "data": {
      "image/png": "[encoded data removed]",
      "text/plain": [
       "<Figure size 432x288 with 1 Axes>"
      ]
     },
     "metadata": {
      "needs_background": "light"
     },
     "output_type": "display_data"
    }
   ],
   "source": [
    "plt.scatter(df[3],pol_pred)\n",
    "plt.xlabel('Hours')\n",
    "plt.ylabel('Marks')\n",
    "plt.show()"
   ]
  },
  {
   "cell_type": "code",
   "execution_count": 53,
   "id": "323ec857",
   "metadata": {},
   "outputs": [
    {
     "name": "stdout",
     "output_type": "stream",
     "text": [
      "RMSE of Polynomial regression is 15.216299891396613\n"
     ]
    }
   ],
   "source": [
    "print(\"RMSE of Polynomial regression is\",np.sqrt(mean_squared_error(ytest,pol_pred)))"
   ]
  },
  {
   "cell_type": "code",
   "execution_count": 54,
   "id": "105b895c",
   "metadata": {},
   "outputs": [
    {
     "data": {
      "text/plain": [
       "-0.7284802960863197"
      ]
     },
     "execution_count": 54,
     "metadata": {},
     "output_type": "execute_result"
    }
   ],
   "source": [
    "lin_reg.score(x_test,ytest)"
   ]
  },
  {
   "cell_type": "markdown",
   "id": "c7dc588b",
   "metadata": {},
   "source": [
    "# Linear regression"
   ]
  },
  {
   "cell_type": "code",
   "execution_count": 55,
   "id": "1c4dab51",
   "metadata": {},
   "outputs": [
    {
     "data": {
      "text/plain": [
       "LinearRegression()"
      ]
     },
     "execution_count": 55,
     "metadata": {},
     "output_type": "execute_result"
    }
   ],
   "source": [
    "lin_reg.fit(xtrain,ytrain)"
   ]
  },
  {
   "cell_type": "code",
   "execution_count": 56,
   "id": "44ef49b2",
   "metadata": {},
   "outputs": [],
   "source": [
    "lin_pred = lin_reg.predict(xtest)"
   ]
  },
  {
   "cell_type": "code",
   "execution_count": 57,
   "id": "71b67187",
   "metadata": {},
   "outputs": [
    {
     "data": {
      "text/plain": [
       "array([[82.02359996],\n",
       "       [74.3166279 ],\n",
       "       [87.25180645],\n",
       "       [79.25869639],\n",
       "       [66.14562276],\n",
       "       [68.29880706],\n",
       "       [66.38637303],\n",
       "       [64.42983034],\n",
       "       [74.31652233],\n",
       "       [73.00529383]])"
      ]
     },
     "execution_count": 57,
     "metadata": {},
     "output_type": "execute_result"
    }
   ],
   "source": [
    "lin_pred"
   ]
  },
  {
   "cell_type": "code",
   "execution_count": 58,
   "id": "952e3633",
   "metadata": {},
   "outputs": [
    {
     "data": {
      "text/html": [
       "<div>\n",
       "<style scoped>\n",
       "    .dataframe tbody tr th:only-of-type {\n",
       "        vertical-align: middle;\n",
       "    }\n",
       "\n",
       "    .dataframe tbody tr th {\n",
       "        vertical-align: top;\n",
       "    }\n",
       "\n",
       "    .dataframe thead th {\n",
       "        text-align: right;\n",
       "    }\n",
       "</style>\n",
       "<table border=\"1\" class=\"dataframe\">\n",
       "  <thead>\n",
       "    <tr style=\"text-align: right;\">\n",
       "      <th></th>\n",
       "      <th>Marks</th>\n",
       "    </tr>\n",
       "  </thead>\n",
       "  <tbody>\n",
       "    <tr>\n",
       "      <th>26</th>\n",
       "      <td>95.455053</td>\n",
       "    </tr>\n",
       "    <tr>\n",
       "      <th>86</th>\n",
       "      <td>69.588898</td>\n",
       "    </tr>\n",
       "    <tr>\n",
       "      <th>2</th>\n",
       "      <td>62.562382</td>\n",
       "    </tr>\n",
       "    <tr>\n",
       "      <th>55</th>\n",
       "      <td>71.139728</td>\n",
       "    </tr>\n",
       "    <tr>\n",
       "      <th>75</th>\n",
       "      <td>86.642020</td>\n",
       "    </tr>\n",
       "    <tr>\n",
       "      <th>93</th>\n",
       "      <td>90.123572</td>\n",
       "    </tr>\n",
       "    <tr>\n",
       "      <th>16</th>\n",
       "      <td>82.892504</td>\n",
       "    </tr>\n",
       "    <tr>\n",
       "      <th>73</th>\n",
       "      <td>57.812513</td>\n",
       "    </tr>\n",
       "    <tr>\n",
       "      <th>54</th>\n",
       "      <td>73.434642</td>\n",
       "    </tr>\n",
       "    <tr>\n",
       "      <th>95</th>\n",
       "      <td>81.536991</td>\n",
       "    </tr>\n",
       "  </tbody>\n",
       "</table>\n",
       "</div>"
      ],
      "text/plain": [
       "        Marks\n",
       "26  95.455053\n",
       "86  69.588898\n",
       "2   62.562382\n",
       "55  71.139728\n",
       "75  86.642020\n",
       "93  90.123572\n",
       "16  82.892504\n",
       "73  57.812513\n",
       "54  73.434642\n",
       "95  81.536991"
      ]
     },
     "execution_count": 58,
     "metadata": {},
     "output_type": "execute_result"
    }
   ],
   "source": [
    "ytest"
   ]
  },
  {
   "cell_type": "code",
   "execution_count": 59,
   "id": "3dd1c0a1",
   "metadata": {},
   "outputs": [
    {
     "data": {
      "image/png": "[encoded data removed]",
      "text/plain": [
       "<Figure size 432x288 with 1 Axes>"
      ]
     },
     "metadata": {
      "needs_background": "light"
     },
     "output_type": "display_data"
    }
   ],
   "source": [
    "plt.scatter(xtest,lin_pred)\n",
    "plt.xlabel('Hours')\n",
    "plt.ylabel('Marks')\n",
    "plt.show()"
   ]
  },
  {
   "cell_type": "code",
   "execution_count": 60,
   "id": "642f821c",
   "metadata": {},
   "outputs": [
    {
     "name": "stdout",
     "output_type": "stream",
     "text": [
      "RMSE of linear regression is  14.712145193355173\n"
     ]
    }
   ],
   "source": [
    "print('RMSE of linear regression is ', np.sqrt(mean_squared_error(ytest, lin_pred)))"
   ]
  },
  {
   "cell_type": "code",
   "execution_count": 61,
   "id": "c155cf37",
   "metadata": {},
   "outputs": [
    {
     "data": {
      "text/plain": [
       "-0.6158398692164824"
      ]
     },
     "execution_count": 61,
     "metadata": {},
     "output_type": "execute_result"
    }
   ],
   "source": [
    "lin_reg.score(xtest, ytest)"
   ]
  },
  {
   "cell_type": "markdown",
   "id": "bf35ee49",
   "metadata": {},
   "source": [
    "# Table"
   ]
  },
  {
   "cell_type": "code",
   "execution_count": 63,
   "id": "f11d29f3",
   "metadata": {},
   "outputs": [],
   "source": [
    "dict = {'RMSe of SVR':np.sqrt(mean_squared_error(ytest, svr_pred)), 'RMSE of random forest':np.sqrt(mean_squared_error(ytest, ran_pred)),'RMSE of decission tree':np.sqrt(mean_squared_error(ytest, dec_pred)), 'RMSE of polynomial':np.sqrt(mean_squared_error(ytest,pol_pred)),'RMSE of linear':np.sqrt(mean_squared_error(ytest, lin_pred)) }"
   ]
  },
  {
   "cell_type": "code",
   "execution_count": 64,
   "id": "d46f5b74",
   "metadata": {},
   "outputs": [
    {
     "data": {
      "text/plain": [
       "{'RMSe of SVR': 14.276455210843194,\n",
       " 'RMSE of random forest': 15.824010896248955,\n",
       " 'RMSE of decission tree': 15.110307625682248,\n",
       " 'RMSE of polynomial': 15.216299891396613,\n",
       " 'RMSE of linear': 14.712145193355173}"
      ]
     },
     "execution_count": 64,
     "metadata": {},
     "output_type": "execute_result"
    }
   ],
   "source": [
    "dict"
   ]
  },
  {
   "cell_type": "code",
   "execution_count": 79,
   "id": "ae9ed7ed",
   "metadata": {},
   "outputs": [],
   "source": [
    "dict2 = {'score of SVR':svr_reg.score(xtest, ytest),'score of random forest':ran_reg.score(xtest, ytest),'score of decissiontree':dec_reg.score(xtest, ytest),'score of linear':lin_reg.score(xtest, ytest)}"
   ]
  },
  {
   "cell_type": "code",
   "execution_count": 80,
   "id": "30886165",
   "metadata": {},
   "outputs": [
    {
     "data": {
      "text/plain": [
       "{'score of SVR': -0.5215530168815705,\n",
       " 'score of random forest': -0.8693019617752733,\n",
       " 'score of decissiontree': -0.7044839939382341,\n",
       " 'score of linear': -0.6158398692164824}"
      ]
     },
     "execution_count": 80,
     "metadata": {},
     "output_type": "execute_result"
    }
   ],
   "source": [
    "dict2"
   ]
  },
  {
   "cell_type": "code",
   "execution_count": 84,
   "id": "eee2a7fc",
   "metadata": {},
   "outputs": [],
   "source": [
    "df2 = pd.Series(dict)"
   ]
  },
  {
   "cell_type": "code",
   "execution_count": 85,
   "id": "a5682d88",
   "metadata": {},
   "outputs": [
    {
     "data": {
      "text/plain": [
       "RMSe of SVR               14.276455\n",
       "RMSE of random forest     15.824011\n",
       "RMSE of decission tree    15.110308\n",
       "RMSE of polynomial        15.216300\n",
       "RMSE of linear            14.712145\n",
       "dtype: float64"
      ]
     },
     "execution_count": 85,
     "metadata": {},
     "output_type": "execute_result"
    }
   ],
   "source": [
    "df2"
   ]
  },
  {
   "cell_type": "code",
   "execution_count": 86,
   "id": "0b401d39",
   "metadata": {},
   "outputs": [],
   "source": [
    "df3 = pd.Series(dict2)"
   ]
  },
  {
   "cell_type": "code",
   "execution_count": 87,
   "id": "b2097a2e",
   "metadata": {},
   "outputs": [
    {
     "data": {
      "text/plain": [
       "score of SVR             -0.521553\n",
       "score of random forest   -0.869302\n",
       "score of decissiontree   -0.704484\n",
       "score of linear          -0.615840\n",
       "dtype: float64"
      ]
     },
     "execution_count": 87,
     "metadata": {},
     "output_type": "execute_result"
    }
   ],
   "source": [
    "df3"
   ]
  },
  {
   "cell_type": "markdown",
   "id": "2286b4a5",
   "metadata": {},
   "source": [
    "# after comparing RMSE and Score it is very clear that SVR is much better"
   ]
  },
  {
   "cell_type": "code",
   "execution_count": null,
   "id": "f08f221c",
   "metadata": {},
   "outputs": [],
   "source": []
  }
 ],
 "metadata": {
  "kernelspec": {
   "display_name": "Python 3",
   "language": "python",
   "name": "python3"
  },
  "language_info": {
   "codemirror_mode": {
    "name": "ipython",
    "version": 3
   },
   "file_extension": ".py",
   "mimetype": "text/x-python",
   "name": "python",
   "nbconvert_exporter": "python",
   "pygments_lexer": "ipython3",
   "version": "3.8.8"
  }
 },
 "nbformat": 4,
 "nbformat_minor": 5
}
